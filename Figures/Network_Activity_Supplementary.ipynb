{
 "cells": [
  {
   "cell_type": "code",
   "execution_count": 2,
   "id": "27dc5195",
   "metadata": {},
   "outputs": [],
   "source": [
    "import sys\n",
    "import os\n",
    "\n",
    "module_path = os.path.abspath(os.path.join('..', 'Analysis'))\n",
    "if module_path not in sys.path:\n",
    "    sys.path.append(module_path)\n",
    "from Activity_Analysis import *\n",
    "from Neuron_response import *\n",
    "from Current_Analysis import *\n",
    "\n",
    "module_path = os.path.abspath(os.path.join('..', 'Networks'))\n",
    "if module_path not in sys.path:\n",
    "    sys.path.append(module_path)\n",
    "from Triplet_Sym_Plastic_Network import *\n",
    "\n",
    "\n",
    "import numpy as np\n",
    "import seaborn as sns"
   ]
  },
  {
   "cell_type": "code",
   "execution_count": 5,
   "id": "5470fba0",
   "metadata": {},
   "outputs": [],
   "source": [
    "[signal_sp, sm, post_spikes, We, Wi, mon] = Network_get_Stats(W = 2.0,\n",
    "                p = 0.05,\n",
    "                noise_ratio = 0.5,\n",
    "                R = [1.0, 1.0, 1.0, 1.0])"
   ]
  },
  {
   "cell_type": "code",
   "execution_count": 6,
   "id": "04354e5c",
   "metadata": {},
   "outputs": [
    {
     "ename": "NameError",
     "evalue": "name 'get_cur_volt' is not defined",
     "output_type": "error",
     "traceback": [
      "\u001b[0;31m---------------------------------------------------------------------------\u001b[0m",
      "\u001b[0;31mNameError\u001b[0m                                 Traceback (most recent call last)",
      "\u001b[0;32m<ipython-input-6-5715f03673a2>\u001b[0m in \u001b[0;36m<module>\u001b[0;34m\u001b[0m\n\u001b[0;32m----> 1\u001b[0;31m \u001b[0mex\u001b[0m\u001b[0;34m,\u001b[0m \u001b[0minh\u001b[0m\u001b[0;34m,\u001b[0m \u001b[0mcur\u001b[0m \u001b[0;34m=\u001b[0m \u001b[0mget_cur_volt\u001b[0m\u001b[0;34m(\u001b[0m\u001b[0mmon\u001b[0m\u001b[0;34m)\u001b[0m\u001b[0;34m\u001b[0m\u001b[0;34m\u001b[0m\u001b[0m\n\u001b[0m\u001b[1;32m      2\u001b[0m \u001b[0mV\u001b[0m \u001b[0;34m=\u001b[0m \u001b[0mmon\u001b[0m\u001b[0;34m.\u001b[0m\u001b[0mv\u001b[0m\u001b[0;34m\u001b[0m\u001b[0;34m\u001b[0m\u001b[0m\n\u001b[1;32m      3\u001b[0m \u001b[0;34m\u001b[0m\u001b[0m\n\u001b[1;32m      4\u001b[0m \u001b[0mp_spikes\u001b[0m \u001b[0;34m=\u001b[0m \u001b[0;34m(\u001b[0m\u001b[0mpost_spikes\u001b[0m\u001b[0;34m.\u001b[0m\u001b[0mspike_trains\u001b[0m\u001b[0;34m(\u001b[0m\u001b[0;34m)\u001b[0m\u001b[0;34m[\u001b[0m\u001b[0;36m0\u001b[0m\u001b[0;34m]\u001b[0m\u001b[0;34m)\u001b[0m\u001b[0;34m/\u001b[0m\u001b[0mms\u001b[0m\u001b[0;34m\u001b[0m\u001b[0;34m\u001b[0m\u001b[0m\n\u001b[1;32m      5\u001b[0m \u001b[0msi\u001b[0m\u001b[0;34m,\u001b[0m\u001b[0mst\u001b[0m \u001b[0;34m=\u001b[0m \u001b[0msm\u001b[0m\u001b[0;34m.\u001b[0m\u001b[0mit\u001b[0m\u001b[0;34m\u001b[0m\u001b[0;34m\u001b[0m\u001b[0m\n",
      "\u001b[0;31mNameError\u001b[0m: name 'get_cur_volt' is not defined"
     ]
    }
   ],
   "source": [
    "ex, inh, cur = get_cur_volt(mon)\n",
    "V = mon.v\n",
    "\n",
    "p_spikes = (post_spikes.spike_trains()[0])/ms\n",
    "si,st = sm.it\n",
    "\n",
    "ISI_mean, CV, FF = get_stats(sm)\n",
    "\n",
    "NE = len(We)\n",
    "NI = len(Wi)\n",
    "NSigs = 8"
   ]
  },
  {
   "cell_type": "code",
   "execution_count": null,
   "id": "e31d66cf",
   "metadata": {},
   "outputs": [],
   "source": [
    "rcParams['axes.titlesize'] = 16\n",
    "rcParams['axes.labelsize'] = 15\n",
    "rcParams['xtick.labelsize'] = 15\n",
    "rcParams['ytick.labelsize'] = 15"
   ]
  },
  {
   "cell_type": "code",
   "execution_count": null,
   "id": "184542b8",
   "metadata": {},
   "outputs": [],
   "source": [
    "axd = plt.figure(constrained_layout=True, figsize=(8.5, 3.5)).subplot_mosaic(\n",
    "    \"\"\"\n",
    "    ABC\n",
    "    EEE\n",
    "    EEE\n",
    "    \"\"\"\n",
    ")\n",
    "\n",
    "axd['A'].set_title('Mean ISI')\n",
    "axd['A'].hist(ISI_mean, 20, color = 'k', alpha = 0.33, density = True)\n",
    "axd['A'].axvline(x = np.mean(ISI_mean), linestyle = '--', color = 'k')\n",
    "axd['A'].text(-0.1,1.15, 'a',color='k',fontsize=16,weight='bold', transform=axd['A'].transAxes)\n",
    "\n",
    "axd['B'].set_title('CV of ISI')\n",
    "axd['B'].hist(CV, 20, color = 'k', alpha = 0.33, density = True)\n",
    "axd['B'].axvline(x = np.mean(CV), linestyle = '--', color = 'k')\n",
    "axd['B'].text(-0.1,1.15, 'b',color='k',fontsize=16,weight='bold', transform=axd['B'].transAxes)\n",
    "\n",
    "\n",
    "axd['C'].set_title('Fano Factor')\n",
    "axd['C'].hist(FF, 20, color = 'k', alpha = 0.33, density = True)\n",
    "axd['C'].axvline(x = np.mean(FF), linestyle = '--', color = 'k')\n",
    "axd['C'].text(-0.1,1.15, 'c',color='k',fontsize=16,weight='bold', transform=axd['C'].transAxes)\n",
    "\n",
    "\n",
    "axd['E'].plot(st[si>NE]/ms, si[si>NE], '.', ms=0.5, color = '#d74c5e')    \n",
    "axd['E'].plot(st[si<NE]/ms, si[si<NE], '.', ms=0.5, color = '#3d8bbe')            \n",
    "axd['E'].set_xlim([0.1, 3000])\n",
    "axd['E'].set_title('Presynaptic Spikes')\n",
    "axd['E'].set_xlabel('Time (ms)')\n",
    "axd['E'].set_ylabel('Neuron Index')\n",
    "axd['E'].text(-0.05,1.05, 'd',color='k',fontsize=16,weight='bold', transform=axd['E'].transAxes)\n",
    "\n",
    "sns.despine()"
   ]
  },
  {
   "cell_type": "code",
   "execution_count": null,
   "id": "7fb6977f",
   "metadata": {},
   "outputs": [],
   "source": [
    "V = mon.v\n",
    "t_min = 53500\n",
    "t_max = t_min + 600\n",
    "\n",
    "axd = plt.figure(constrained_layout=True, figsize=(8.5, 3.5)).subplot_mosaic(\n",
    "    \"\"\"\n",
    "    AB\n",
    "    AB\n",
    "    AC\n",
    "    AC\n",
    "    \"\"\")\n",
    "\n",
    "axd['A'].plot(np.linspace(0.5, NSigs + 0.5, NE), We, '.', color = '#3d8bbe')\n",
    "axd['A'].plot(np.linspace(0.5, NSigs + 0.5, NI), Wi[::-1]/2.001, '.', color = '#d74c5e')\n",
    "axd['A'].set_xlabel('Group Index', fontsize = 16)\n",
    "axd['A'].set_ylabel('Connection Strength (nS)', fontsize = 16)\n",
    "axd['A'].text(-0.05,1.05, 'a',color='k',fontsize=16,weight='bold', transform=axd['A'].transAxes)\n",
    "\n",
    "axd['B'].plot(np.linspace(t_min, t_max, (t_max-t_min)*10), ex[t_min*10: t_max*10]*1e8,\n",
    "              '-', color ='#3d8bbe', linewidth=2.0, label = 'Ampa')\n",
    "axd['B'].plot(np.linspace(t_min, t_max, (t_max-t_min)*10), inh[t_min*10: t_max*10]*1e8,\n",
    "              '-', color = '#d74c5e', linewidth=2.0, label = 'Gaba')\n",
    "axd['B'].plot(np.linspace(t_min, t_max, (t_max-t_min)*10), cur[t_min*10: t_max*10]*1e8,\n",
    "              color = 'k', linewidth= 2.0, label = 'Total Current')\n",
    "axd['B'].set_ylabel('Membrane \\n Current (nA)')\n",
    "axd['B'].text(-0.05, 1.15, 'b',color='k',fontsize=16,weight='bold', transform=axd['B'].transAxes)\n",
    "axd['B'].set_xticks(np.linspace(t_min, t_max, 4), ['0', '200', '400', '600'])\n",
    "\n",
    "axd['C'].plot(np.linspace(t_min, t_max, (t_max-t_min)*10), V[0, t_min*10: t_max*10]/mV, linewidth = '2.1', color = 'k')\n",
    "axd['C'].axhline(y = -50, linewidth = '2', linestyle = '--', color = 'r')\n",
    "axd['C'].set_ylabel('Voltage (mV)')\n",
    "axd['C'].text(-0.05,1.05, 'c',color='k',fontsize=16,weight='bold', transform=axd['C'].transAxes)\n",
    "axd['C'].eventplot(p_spikes, lineoffsets = -40, linelengths = 20, color = 'g')\n",
    "axd['C'].set_xlim([t_min, t_max])\n",
    "axd['C'].set_xlabel('Time (ms)')\n",
    "axd['C'].set_xticks(np.linspace(t_min, t_max, 4), ['0', '200', '400', '600'])\n",
    "\n",
    "sns.despine()"
   ]
  },
  {
   "cell_type": "code",
   "execution_count": null,
   "id": "bdb90909",
   "metadata": {},
   "outputs": [],
   "source": []
  },
  {
   "cell_type": "code",
   "execution_count": null,
   "id": "8ae676f2",
   "metadata": {},
   "outputs": [],
   "source": []
  }
 ],
 "metadata": {
  "kernelspec": {
   "display_name": "Python 3",
   "language": "python",
   "name": "python3"
  },
  "language_info": {
   "codemirror_mode": {
    "name": "ipython",
    "version": 3
   },
   "file_extension": ".py",
   "mimetype": "text/x-python",
   "name": "python",
   "nbconvert_exporter": "python",
   "pygments_lexer": "ipython3",
   "version": "3.9.16"
  }
 },
 "nbformat": 4,
 "nbformat_minor": 5
}
